{
 "cells": [
  {
   "cell_type": "code",
   "execution_count": 2,
   "metadata": {},
   "outputs": [],
   "source": [
    "\n",
    "import numpy as np\n",
    "import pandas as pd\n",
    "import seaborn as sns"
   ]
  },
  {
   "cell_type": "markdown",
   "metadata": {},
   "source": [
    "https://medium.com/@jaems33/understanding-kalman-filters-with-python-2310e87b8f48"
   ]
  },
  {
   "cell_type": "markdown",
   "metadata": {},
   "source": [
    "# Simple Numeric example"
   ]
  },
  {
   "cell_type": "markdown",
   "metadata": {},
   "source": [
    "## 1 Step example"
   ]
  },
  {
   "cell_type": "code",
   "execution_count": 2,
   "metadata": {},
   "outputs": [],
   "source": [
    "# Current Estimate = est_t\n",
    "# Previous Estimate = est_t_m1\n",
    "# Error in Current Estimate (or Intial_Estimate_Error) = E_est_t\n",
    "# Error in Previous Estimate = E_est_t_m1\n",
    "# Error in Measurement = E_meas\n",
    "\n",
    "#  = E_est_t\n",
    "\n",
    "True_Temperature = 72\n",
    "Inital_Estimate = 68\n",
    "Intial_Estimate_Error = 2\n",
    "\n",
    "Initial_Measurement = 75\n",
    "Initial_Measurement_Error = 4"
   ]
  },
  {
   "cell_type": "code",
   "execution_count": 41,
   "metadata": {},
   "outputs": [
    {
     "name": "stdout",
     "output_type": "stream",
     "text": [
      "Kalman_Gain (t)=  0.3333333333333333\n",
      "Kalman_Gain (t)=  70.33333333333333\n",
      "Updated Estimate Error (t)=  1.3333333333333335\n"
     ]
    }
   ],
   "source": [
    "### STEP 1\n",
    "est_t_m1 = Inital_Estimate\n",
    "E_est_t_m1 = Intial_Estimate_Error\n",
    "E_est_t = Intial_Estimate_Error\n",
    "E_meas = Initial_Measurement_Error\n",
    "meas = Initial_Measurement\n",
    "\n",
    "# 1 Kalman Gain\n",
    "KG = E_est_t / (E_est_t + E_meas)\n",
    "print('Kalman_Gain (t)= ', KG)\n",
    "\n",
    "# 2 Current Estimate\n",
    "est_t = est_t_m1 + KG*(meas - est_t_m1)\n",
    "print('Kalman_Gain (t)= ', est_t)\n",
    "\n",
    "# 3 Updated Estimate Error\n",
    "E_est_t = (1 - KG)*E_est_t_m1\n",
    "print('Updated Estimate Error (t)= ',E_est_t)"
   ]
  },
  {
   "cell_type": "markdown",
   "metadata": {},
   "source": [
    "## Multiple Steps Example\n",
    "\n"
   ]
  },
  {
   "cell_type": "code",
   "execution_count": null,
   "metadata": {},
   "outputs": [],
   "source": [
    "| time | Measurement (meas) |\n",
    "| t-1  |                    |\n",
    "|  t   |         75         |\n",
    "| t+1  |         71         |\n",
    "| t+2  |         70         |\n",
    "| t+3  |         74         |"
   ]
  },
  {
   "cell_type": "code",
   "execution_count": 42,
   "metadata": {},
   "outputs": [
    {
     "name": "stdout",
     "output_type": "stream",
     "text": [
      "Kalman_Gain (t+1)=  0.25\n",
      "Kalman_Gain (t+1)=  70.5\n",
      "Updated Estimate Error (t+1)=  1.0\n"
     ]
    }
   ],
   "source": [
    "## STEP t + 1\n",
    "\n",
    "# Set up time step m1 from previous estimates\n",
    "est_t_m1 = est_t\n",
    "meas = 71\n",
    "E_est_t_m1 = E_est_t\n",
    "\n",
    "# 1 Kalman Gain\n",
    "KG = E_est_t / (E_est_t + E_meas)\n",
    "print('Kalman_Gain (t+1)= ', KG)\n",
    "\n",
    "# 2 Current Estimate\n",
    "est_t = est_t_m1 + KG*(meas - est_t_m1)\n",
    "print('Kalman_Gain (t+1)= ', est_t)\n",
    "\n",
    "# 3 Updated Estimate Error\n",
    "E_est_t = (1 - KG)*E_est_t_m1\n",
    "print('Updated Estimate Error (t+1)= ',E_est_t)"
   ]
  },
  {
   "cell_type": "code",
   "execution_count": 3,
   "metadata": {},
   "outputs": [
    {
     "ename": "NameError",
     "evalue": "name 'est_t' is not defined",
     "output_type": "error",
     "traceback": [
      "\u001b[1;31m---------------------------------------------------------------------------\u001b[0m",
      "\u001b[1;31mNameError\u001b[0m                                 Traceback (most recent call last)",
      "\u001b[1;32m<ipython-input-3-561912cd02df>\u001b[0m in \u001b[0;36m<module>\u001b[1;34m\u001b[0m\n\u001b[0;32m      2\u001b[0m \u001b[1;33m\u001b[0m\u001b[0m\n\u001b[0;32m      3\u001b[0m \u001b[1;31m# Set up time step m1 from previous estimates\u001b[0m\u001b[1;33m\u001b[0m\u001b[1;33m\u001b[0m\u001b[1;33m\u001b[0m\u001b[0m\n\u001b[1;32m----> 4\u001b[1;33m \u001b[0mest_t_m1\u001b[0m \u001b[1;33m=\u001b[0m \u001b[0mest_t\u001b[0m\u001b[1;33m\u001b[0m\u001b[1;33m\u001b[0m\u001b[0m\n\u001b[0m\u001b[0;32m      5\u001b[0m \u001b[0mmeas\u001b[0m \u001b[1;33m=\u001b[0m \u001b[1;36m70\u001b[0m\u001b[1;33m\u001b[0m\u001b[1;33m\u001b[0m\u001b[0m\n\u001b[0;32m      6\u001b[0m \u001b[0mE_est_t_m1\u001b[0m \u001b[1;33m=\u001b[0m \u001b[0mE_est_t\u001b[0m\u001b[1;33m\u001b[0m\u001b[1;33m\u001b[0m\u001b[0m\n",
      "\u001b[1;31mNameError\u001b[0m: name 'est_t' is not defined"
     ]
    }
   ],
   "source": [
    "## STEP t + 2\n",
    "\n",
    "# Set up time step m1 from previous estimates\n",
    "est_t_m1 = est_t\n",
    "meas = 70\n",
    "E_est_t_m1 = E_est_t\n",
    "\n",
    "# 1 Kalman Gain\n",
    "KG = E_est_t / (E_est_t + E_meas)\n",
    "print('Kalman_Gain (t+2)= ', KG)\n",
    "\n",
    "# 2 Current Estimate\n",
    "est_t = est_t_m1 + KG*(meas - est_t_m1)\n",
    "print('Kalman_Gain (t+2)= ', est_t)\n",
    "\n",
    "# 3 Updated Estimate Error\n",
    "E_est_t = (1 - KG)*E_est_t_m1\n",
    "print('Updated Estimate Error (t+2)= ',E_est_t)"
   ]
  },
  {
   "cell_type": "code",
   "execution_count": 44,
   "metadata": {},
   "outputs": [
    {
     "name": "stdout",
     "output_type": "stream",
     "text": [
      "Kalman_Gain (t+3)=  0.16666666666666669\n",
      "Kalman_Gain (t+3)=  71.0\n",
      "Updated Estimate Error (t+3)=  0.6666666666666666\n"
     ]
    }
   ],
   "source": [
    "## STEP t + 3\n",
    "\n",
    "# Set up time step m1 from previous estimates\n",
    "est_t_m1 = est_t\n",
    "meas = 74\n",
    "E_est_t_m1 = E_est_t\n",
    "\n",
    "# 1 Kalman Gain\n",
    "KG = E_est_t / (E_est_t + E_meas)\n",
    "print('Kalman_Gain (t+3)= ', KG)\n",
    "\n",
    "# 2 Current Estimate\n",
    "est_t = est_t_m1 + KG*(meas - est_t_m1)\n",
    "print('Kalman_Gain (t+3)= ', est_t)\n",
    "\n",
    "# 3 Updated Estimate Error\n",
    "E_est_t = (1 - KG)*E_est_t_m1\n",
    "print('Updated Estimate Error (t+3)= ',E_est_t)"
   ]
  },
  {
   "cell_type": "markdown",
   "metadata": {},
   "source": [
    "# Graphical Example"
   ]
  },
  {
   "cell_type": "code",
   "execution_count": null,
   "metadata": {},
   "outputs": [],
   "source": [
    "| time | Measurement (meas) | E_meas |  est  | est_t_m1 |  KG  | est_t |\n",
    "| t-1  |                    |        |   68  |     2    |      |       |\n",
    "|  t   |         75         |   4    | 70.33 |          | 0.33 |  1.33 |\n",
    "| t+1  |         71         |   4    | 70.50 |          | 0.25 |  1.00 |\n",
    "| t+2  |         70         |   4    | 70.40 |          | 0.20 |  0.80 |\n",
    "| t+3  |         74         |   4    |   71  |          | 0.17 |       |"
   ]
  },
  {
   "cell_type": "code",
   "execution_count": null,
   "metadata": {},
   "outputs": [],
   "source": [
    "t = [1,2,3,4,5]\n",
    "# Current Estimate = est_t\n",
    "# Previous Estimate = est_t_m1\n",
    "# Error in Current Estimate (or Intial_Estimate_Error) = E_est_t\n",
    "# Error in Previous Estimate = E_est_t_m1\n",
    "# Error in Measurement = E_meas\n",
    "\n",
    "Inital_Estimate = 68\n",
    "Intial_Estimate_Error = 2\n",
    "\n",
    "Initial_Measurement = 75\n",
    "Initial_Measurement_Error = 4\n",
    "\n",
    "df = pd.DataFrame"
   ]
  },
  {
   "cell_type": "code",
   "execution_count": 5,
   "metadata": {},
   "outputs": [
    {
     "name": "stdout",
     "output_type": "stream",
     "text": [
      "   time  Measurements  Kalman Gain  Estimates  Error in estimates\n",
      "0     1            75     0.333333  68.000000            2.000000\n",
      "1     2            71     0.250000  70.333333            1.333333\n",
      "2     3            70     0.200000  70.500000            1.000000\n",
      "3     4            74     0.166667  70.400000            0.800000\n",
      "4     5            75     0.142857  71.000000            0.666667\n",
      "5     6            78     0.125000  71.571429            0.571429\n",
      "6     7            70     0.111111  72.375000            0.500000\n",
      "7     8            75     0.100000  72.111111            0.444444\n"
     ]
    },
    {
     "data": {
      "text/plain": [
       "<seaborn.axisgrid.FacetGrid at 0x28a1e70d9d0>"
      ]
     },
     "execution_count": 5,
     "metadata": {},
     "output_type": "execute_result"
    },
    {
     "data": {
      "image/png": "[encoded data removed]",
      "text/plain": [
       "<Figure size 469.75x360 with 1 Axes>"
      ]
     },
     "metadata": {
      "needs_background": "light"
     },
     "output_type": "display_data"
    }
   ],
   "source": [
    "\n",
    "time = [1,2,3,4,5,6,7, 8]  # just a vector of time steps (measurements)\n",
    "Measurement_list = [75, 71, 70, 74,75, 78, 70, 75]   # This is the list of 'slightly inaccurate' measurements we can\n",
    "\n",
    "est_t = 68   #  First value here is the inital estimate not derived from the measurement\n",
    "E_est_t = 2  #  First value is the inital estimate or error not derived from the measurement\n",
    "E_meas = 4   # Error in the measurement process (this usually stays constance and the way we take measurements is the same)\n",
    "KG_list = []\n",
    "est_t_list = [est_t]\n",
    "E_est_t_list = [E_est_t]\n",
    "for timestep in range(0,len(Measurement_list)):\n",
    "    # 1 Kalman Gain\n",
    "    KG = E_est_t / (E_est_t+ E_meas)\n",
    "    KG_list.append(KG)\n",
    "\n",
    "    # 2 Current Estimate\n",
    "    est_t = est_t + KG*(Measurement_list[timestep] - est_t)\n",
    "    est_t_list.append(est_t)\n",
    "\n",
    "    # 3 Updated Estimate Error\n",
    "    E_est_t = (1 - KG)*E_est_t\n",
    "    E_est_t_list.append(E_est_t)\n",
    "\n",
    "\n",
    "df = pd.DataFrame(list(zip(time, Measurement_list, KG_list, est_t_list, E_est_t_list)),\n",
    "               columns =['time', 'Measurements', 'Kalman Gain', 'Estimates', 'Error in estimates'])\n",
    "\n",
    "\n",
    "print(df)\n",
    "\n",
    "# Melt df to plot using seaborn \n",
    "dfm = df[['time','Measurements', 'Estimates']].melt('time', var_name='cols', value_name='vals')\n",
    "sns.catplot(x=\"time\", y=\"vals\", hue='cols', data=dfm, kind='point')"
   ]
  },
  {
   "cell_type": "code",
   "execution_count": 1,
   "metadata": {},
   "outputs": [],
   "source": [
    "def updated_mean(mean1, var1, mean2, var2):\n",
    "    new_mean = (mean1 * var2 + mean2 * var1) / (var1 + var2)\n",
    "    return new_mean\n",
    "\n",
    "def updated_var(var1, var2):\n",
    "    new_var = 1 / ((1 / var1) + (1 / var2))\n",
    "    return new_var"
   ]
  },
  {
   "cell_type": "code",
   "execution_count": null,
   "metadata": {},
   "outputs": [],
   "source": [
    "\n",
    "def predict(mean1, var1, mean2, var2):\n",
    "    new_mean = mean1 + mean2\n",
    "    new_var = var1 + var2\n",
    "    return [new_mean, new_var]"
   ]
  },
  {
   "cell_type": "code",
   "execution_count": 5,
   "metadata": {},
   "outputs": [
    {
     "name": "stdout",
     "output_type": "stream",
     "text": [
      "[[4000  280]\n",
      " [4260  282]\n",
      " [4550  285]\n",
      " [4860  286]\n",
      " [5110  290]]\n"
     ]
    }
   ],
   "source": [
    "import numpy as np\n",
    "from numpy.linalg import inv\n",
    "\n",
    "x_observations = np.array([4000, 4260, 4550, 4860, 5110])\n",
    "v_observations = np.array([280, 282, 285, 286, 290])\n",
    "\n",
    "z = np.c_[x_observations, v_observations]\n",
    "print(z)\n",
    "# Initial Conditions\n",
    "a = 2  # Acceleration\n",
    "v = 280\n",
    "t = 1  # Difference in time\n",
    "\n",
    "# Process / Estimation Errors\n",
    "error_est_x = 20\n",
    "error_est_v = 5\n",
    "\n",
    "# Observation Errors\n",
    "error_obs_x = 25  # Uncertainty in the measurement\n",
    "error_obs_v = 6\n",
    "\n"
   ]
  },
  {
   "cell_type": "code",
   "execution_count": null,
   "metadata": {},
   "outputs": [],
   "source": [
    "def prediction2d(x, v, t, a):\n",
    "    A = np.array([[1, t],\n",
    "                  [0, 1]])         # Update previous state based on the time that has elapsed\n",
    "    X = np.array([[x],\n",
    "                  [v]])\n",
    "    B = np.array([[0.5 * t ** 2],    \n",
    "                  [t]])            # translates acceleration into an adjustment to the position and velocity\n",
    "    X_prime = A.dot(X) + B.dot(a)\n",
    "    return X_prime\n",
    "\n",
    "##  updated the Process / Estimation Covariance matrix to the next time step, predicting it forward. \n",
    "#   The operation adds a time step to the matrix, subsequently updating the variance of the distance error. \n",
    "#   The A matrix is similar to the one used in predicting the State matrix values. Since Professor Biezen eliminated the off-diagonal values, I did the same.\n",
    "def covariance2d(sigma1, sigma2):\n",
    "    cov1_2 = sigma1 * sigma2\n",
    "    cov2_1 = sigma2 * sigma1\n",
    "    cov_matrix = np.array([[sigma1 ** 2, cov1_2],\n",
    "                           [cov2_1, sigma2 ** 2]])\n",
    "    return np.diag(np.diag(cov_matrix))"
   ]
  },
  {
   "cell_type": "code",
   "execution_count": 7,
   "metadata": {},
   "outputs": [
    {
     "name": "stdout",
     "output_type": "stream",
     "text": [
      "[[1 1]\n",
      " [0 1]]\n",
      "[[4000]\n",
      " [ 280]]\n"
     ]
    }
   ],
   "source": [
    "# Initial Estimation Covariance Matrix\n",
    "P = covariance2d(error_est_x, error_est_v)\n",
    "A = np.array([[1, t],\n",
    "              [0, 1]])\n",
    "print(A)\n",
    "\n",
    "# Initial State Matrix\n",
    "X = np.array([[z[0][0]],\n",
    "              [v]])\n",
    "n = len(z[0])\n",
    "print(X)"
   ]
  },
  {
   "cell_type": "code",
   "execution_count": 4,
   "metadata": {},
   "outputs": [
    {
     "name": "stdout",
     "output_type": "stream",
     "text": [
      "Kalman Filter State Matrix:\n",
      " [[5127.05898493]\n",
      " [ 288.55147059]]\n"
     ]
    }
   ],
   "source": [
    "\n",
    "\n",
    "\n",
    "\n",
    "\n",
    "\n",
    "\n",
    "for data in z[1:]:\n",
    "    X = prediction2d(X[0][0], X[1][0], t, a)\n",
    "    # To simplify the problem, professor\n",
    "    # set off-diagonal terms to 0.\n",
    "    P = np.diag(np.diag(A.dot(P).dot(A.T)))\n",
    "\n",
    "    # Calculating the Kalman Gain\n",
    "    H = np.identity(n)\n",
    "    R = covariance2d(error_obs_x, error_obs_v)\n",
    "    S = H.dot(P).dot(H.T) + R\n",
    "    K = P.dot(H).dot(inv(S))\n",
    "\n",
    "    # Reshape the new data into the measurement space.\n",
    "    Y = H.dot(data).reshape(n, -1)\n",
    "\n",
    "    # Update the State Matrix\n",
    "    # Combination of the predicted state, measured values, covariance matrix and Kalman Gain\n",
    "    X = X + K.dot(Y - H.dot(X))\n",
    "\n",
    "    # Update Process Covariance Matrix\n",
    "    P = (np.identity(len(K)) - K.dot(H)).dot(P)\n",
    "\n",
    "print(\"Kalman Filter State Matrix:\\n\", X)\n",
    "\n"
   ]
  },
  {
   "cell_type": "code",
   "execution_count": null,
   "metadata": {},
   "outputs": [],
   "source": []
  }
 ],
 "metadata": {
  "interpreter": {
   "hash": "b500db6cd586ece582d033cd377559500f64dcbcafb61303efa15a865a174cfb"
  },
  "kernelspec": {
   "display_name": "Python 3.8.3 ('base')",
   "language": "python",
   "name": "python3"
  },
  "language_info": {
   "codemirror_mode": {
    "name": "ipython",
    "version": 3
   },
   "file_extension": ".py",
   "mimetype": "text/x-python",
   "name": "python",
   "nbconvert_exporter": "python",
   "pygments_lexer": "ipython3",
   "version": "3.8.3"
  },
  "orig_nbformat": 4
 },
 "nbformat": 4,
 "nbformat_minor": 2
}
